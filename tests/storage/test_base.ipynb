{
 "cells": [
  {
   "cell_type": "code",
   "execution_count": 3,
   "id": "4e03b965",
   "metadata": {},
   "outputs": [],
   "source": [
    "import h5py\n",
    "from druglab.storage import BaseStorage\n",
    "\n",
    "class ExampleStorage(BaseStorage):\n",
    "    @property\n",
    "    def required_object_keys(self):\n",
    "        return ['items']\n",
    "    \n",
    "    @property\n",
    "    def save_dtypes(self):\n",
    "        return {'items': h5py.string_dtype()}\n",
    "    \n",
    "    def __init__(self, items=None, **kwargs):\n",
    "        objects = {'items': items or []}\n",
    "        super().__init__(objects=objects, **kwargs)\n",
    "    \n",
    "    def get_save_ready_objects(self):\n",
    "        return {'items': [str(item) for item in self._objects['items']]}\n",
    "    \n",
    "    def get_load_ready_objects(self, db, indices=None):\n",
    "        if indices is None:\n",
    "            data = db['items'][:]\n",
    "        else:\n",
    "            data = db['items'][indices]\n",
    "        \n",
    "        items = [item.decode() if isinstance(item, bytes) else str(item) \n",
    "                 for item in data]\n",
    "        return {'items': items}"
   ]
  },
  {
   "cell_type": "code",
   "execution_count": 8,
   "id": "a6a5a549",
   "metadata": {},
   "outputs": [
    {
     "ename": "KeyError",
     "evalue": "'test_feat'",
     "output_type": "error",
     "traceback": [
      "\u001b[31m---------------------------------------------------------------------------\u001b[39m",
      "\u001b[31mKeyError\u001b[39m                                  Traceback (most recent call last)",
      "\u001b[36mCell\u001b[39m\u001b[36m \u001b[39m\u001b[32mIn[8]\u001b[39m\u001b[32m, line 20\u001b[39m\n\u001b[32m     17\u001b[39m     temp_path = f.name\n\u001b[32m     19\u001b[39m \u001b[38;5;66;03m# Save\u001b[39;00m\n\u001b[32m---> \u001b[39m\u001b[32m20\u001b[39m \u001b[43mstorage\u001b[49m\u001b[43m.\u001b[49m\u001b[43mwrite\u001b[49m\u001b[43m(\u001b[49m\u001b[43mtemp_path\u001b[49m\u001b[43m)\u001b[49m\n\u001b[32m     22\u001b[39m \u001b[38;5;66;03m# Load\u001b[39;00m\n\u001b[32m     23\u001b[39m loaded_storage = ExampleStorage.load(temp_path)\n",
      "\u001b[36mFile \u001b[39m\u001b[32m~/projects/002_druglab/src/druglab/storage/base.py:509\u001b[39m, in \u001b[36mBaseStorage.write\u001b[39m\u001b[34m(self, path, mode)\u001b[39m\n\u001b[32m    506\u001b[39m \u001b[38;5;28mself\u001b[39m.save_objects_to_file(f)\n\u001b[32m    508\u001b[39m \u001b[38;5;66;03m# Save features\u001b[39;00m\n\u001b[32m--> \u001b[39m\u001b[32m509\u001b[39m \u001b[38;5;28;43mself\u001b[39;49m\u001b[43m.\u001b[49m\u001b[43msave_features_to_file\u001b[49m\u001b[43m(\u001b[49m\u001b[43mf\u001b[49m\u001b[43m)\u001b[49m\n",
      "\u001b[36mFile \u001b[39m\u001b[32m~/projects/002_druglab/src/druglab/storage/base.py:436\u001b[39m, in \u001b[36mBaseStorage.save_features_to_file\u001b[39m\u001b[34m(self, db)\u001b[39m\n\u001b[32m    433\u001b[39m features = \u001b[38;5;28mself\u001b[39m._features.get_features(feat_key)\n\u001b[32m    434\u001b[39m metadata = \u001b[38;5;28mself\u001b[39m._features.get_metadata(feat_key)\n\u001b[32m--> \u001b[39m\u001b[32m436\u001b[39m \u001b[38;5;28;43mself\u001b[39;49m\u001b[43m.\u001b[49m\u001b[43m_append_to_dataset\u001b[49m\u001b[43m(\u001b[49m\u001b[43mfeatures_group\u001b[49m\u001b[43m,\u001b[49m\u001b[43m \u001b[49m\u001b[43mfeat_key\u001b[49m\u001b[43m,\u001b[49m\u001b[43m \u001b[49m\u001b[43mfeatures\u001b[49m\u001b[43m)\u001b[49m\n\u001b[32m    437\u001b[39m \u001b[38;5;28;01mif\u001b[39;00m \u001b[38;5;28misinstance\u001b[39m(metadata, StorageMetadata):\n\u001b[32m    438\u001b[39m     \u001b[38;5;28;01mfor\u001b[39;00m key, val \u001b[38;5;129;01min\u001b[39;00m metadata.items():\n",
      "\u001b[36mFile \u001b[39m\u001b[32m~/projects/002_druglab/src/druglab/storage/base.py:399\u001b[39m, in \u001b[36mBaseStorage._append_to_dataset\u001b[39m\u001b[34m(self, db, key, data)\u001b[39m\n\u001b[32m    394\u001b[39m \u001b[38;5;28;01mdef\u001b[39;00m\u001b[38;5;250m \u001b[39m\u001b[34m_append_to_dataset\u001b[39m(\u001b[38;5;28mself\u001b[39m, db: h5py.File, key: \u001b[38;5;28mstr\u001b[39m, data: List[Any]):\n\u001b[32m    395\u001b[39m     \u001b[38;5;28;01mif\u001b[39;00m key \u001b[38;5;129;01mnot\u001b[39;00m \u001b[38;5;129;01min\u001b[39;00m db:\n\u001b[32m    396\u001b[39m         db.create_dataset(\n\u001b[32m    397\u001b[39m             name=key,\n\u001b[32m    398\u001b[39m             data=data,\n\u001b[32m--> \u001b[39m\u001b[32m399\u001b[39m             dtype=\u001b[38;5;28;43mself\u001b[39;49m\u001b[43m.\u001b[49m\u001b[43msave_dtypes\u001b[49m\u001b[43m[\u001b[49m\u001b[43mkey\u001b[49m\u001b[43m]\u001b[49m,\n\u001b[32m    400\u001b[39m             maxshape=(\u001b[38;5;28;01mNone\u001b[39;00m,), \u001b[38;5;66;03m# TODO: shape as input\u001b[39;00m\n\u001b[32m    401\u001b[39m             compression=\u001b[33m\"\u001b[39m\u001b[33mgzip\u001b[39m\u001b[33m\"\u001b[39m,\n\u001b[32m    402\u001b[39m             compression_opts=\u001b[32m4\u001b[39m,\n\u001b[32m    403\u001b[39m             chunks=\u001b[38;5;28;01mTrue\u001b[39;00m\n\u001b[32m    404\u001b[39m         ) \u001b[38;5;66;03m# TODO: Have a `set_save_config` method to get these options\u001b[39;00m\n\u001b[32m    405\u001b[39m     \u001b[38;5;28;01melse\u001b[39;00m:\n\u001b[32m    406\u001b[39m         db[key].resize(db[key].shape[\u001b[32m0\u001b[39m] + \u001b[38;5;28mlen\u001b[39m(data), axis=\u001b[32m0\u001b[39m)\n",
      "\u001b[31mKeyError\u001b[39m: 'test_feat'"
     ]
    }
   ],
   "source": [
    "import tempfile\n",
    "from pathlib import Path\n",
    "import numpy as np\n",
    "\n",
    "# Create storage with data\n",
    "storage = ExampleStorage(['item1', 'item2', 'item3'])\n",
    "\n",
    "# Add features\n",
    "features = np.random.rand(3, 4)\n",
    "storage.features.add_features('test_feat', features)\n",
    "\n",
    "# Add metadata\n",
    "storage.metadata['version'] = 1\n",
    "storage.metadata['created_by'] = 'test'\n",
    "\n",
    "with tempfile.NamedTemporaryFile(suffix='.h5', delete=False) as f:\n",
    "    temp_path = f.name\n",
    "\n",
    "# Save\n",
    "storage.write(temp_path)\n",
    "\n",
    "# Load\n",
    "loaded_storage = ExampleStorage.load(temp_path)\n",
    "\n",
    "# Verify objects\n",
    "assert len(loaded_storage) == 3\n",
    "assert loaded_storage._objects['items'] == ['item1', \n",
    "                                            'item2', \n",
    "                                            'item3']\n",
    "\n",
    "# Verify features\n",
    "loaded_features = loaded_storage.features.get_features('test_feat')\n",
    "np.testing.assert_array_almost_equal(loaded_features, features)\n",
    "\n",
    "Path(temp_path).unlink(missing_ok=True)"
   ]
  },
  {
   "cell_type": "code",
   "execution_count": 7,
   "id": "bf2efee0",
   "metadata": {},
   "outputs": [
    {
     "data": {
      "text/plain": [
       "dict_keys(['test_feat'])"
      ]
     },
     "execution_count": 7,
     "metadata": {},
     "output_type": "execute_result"
    }
   ],
   "source": [
    "storage.features.keys()"
   ]
  }
 ],
 "metadata": {
  "kernelspec": {
   "display_name": "druglab",
   "language": "python",
   "name": "python3"
  },
  "language_info": {
   "codemirror_mode": {
    "name": "ipython",
    "version": 3
   },
   "file_extension": ".py",
   "mimetype": "text/x-python",
   "name": "python",
   "nbconvert_exporter": "python",
   "pygments_lexer": "ipython3",
   "version": "3.12.9"
  }
 },
 "nbformat": 4,
 "nbformat_minor": 5
}

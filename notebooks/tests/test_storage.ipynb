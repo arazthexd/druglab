{
 "cells": [
  {
   "cell_type": "code",
   "execution_count": 1,
   "id": "be269717",
   "metadata": {},
   "outputs": [],
   "source": [
    "from urllib.request import urlretrieve\n",
    "import os, zipfile\n",
    "\n",
    "forced = False\n",
    "\n",
    "if not os.path.exists(\"./afrodb.zip\") or forced:\n",
    "    urlretrieve(\n",
    "        (\"https://coconut.s3.uni-jena.de/prod/downloads/2025-04/collections/afrodb-04-2025.zip\"),\n",
    "        \"./afrodb.zip\"\n",
    "    )\n",
    "\n",
    "if not os.path.exists(\"./afrodb.sdf\") or forced:\n",
    "    with zipfile.ZipFile(\"./afrodb.zip\", \"r\") as zip_ref:\n",
    "        zip_ref.extractall(\"./\")\n",
    "    os.rename(\"./afrodb-04-2025.sdf\", \"./afrodb.sdf\")\n",
    "\n",
    "with open(\".gitignore\", \"w\") as f:\n",
    "    f.write(\"afrodb.zip\\n\")\n",
    "    f.write(\"afrodb.sdf\\n\")"
   ]
  },
  {
   "cell_type": "code",
   "execution_count": 3,
   "id": "dcd2eb1e",
   "metadata": {},
   "outputs": [
    {
     "name": "stderr",
     "output_type": "stream",
     "text": [
      "100%|██████████| 901/901 [00:00<00:00, 2478.25it/s]\n"
     ]
    },
    {
     "data": {
      "text/plain": [
       "(901, 2048)"
      ]
     },
     "execution_count": 3,
     "metadata": {},
     "output_type": "execute_result"
    }
   ],
   "source": [
    "from druglab.storage import MolStorage\n",
    "from druglab.featurize import get_featurizer\n",
    "\n",
    "f = get_featurizer([\"morgan2-1024\", \"morgan3-1024\"])\n",
    "s = MolStorage()\n",
    "s.load_mols(\"afrodb.sdf\")\n",
    "s.featurize(f, n_workers=8)\n",
    "s.feats.shape"
   ]
  }
 ],
 "metadata": {
  "kernelspec": {
   "display_name": "druglab",
   "language": "python",
   "name": "python3"
  },
  "language_info": {
   "codemirror_mode": {
    "name": "ipython",
    "version": 3
   },
   "file_extension": ".py",
   "mimetype": "text/x-python",
   "name": "python",
   "nbconvert_exporter": "python",
   "pygments_lexer": "ipython3",
   "version": "3.12.9"
  }
 },
 "nbformat": 4,
 "nbformat_minor": 5
}

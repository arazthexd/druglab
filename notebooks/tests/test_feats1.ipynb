{
 "cells": [
  {
   "cell_type": "code",
   "execution_count": 1,
   "id": "f90bdf49",
   "metadata": {},
   "outputs": [
    {
     "data": {
      "image/png": "[encoded data removed]",
      "text/plain": [
       "<rdkit.Chem.rdchem.Mol at 0x7f3cf2702730>"
      ]
     },
     "execution_count": 1,
     "metadata": {},
     "output_type": "execute_result"
    }
   ],
   "source": [
    "from rdkit import Chem\n",
    "\n",
    "mol = Chem.MolFromSmiles(\"c1ccccc1C(=O)c2c[nH]cc2\")\n",
    "mol"
   ]
  },
  {
   "cell_type": "code",
   "execution_count": 2,
   "id": "271b082d",
   "metadata": {},
   "outputs": [
    {
     "data": {
      "text/plain": [
       "(1, 2048)"
      ]
     },
     "execution_count": 2,
     "metadata": {},
     "output_type": "execute_result"
    }
   ],
   "source": [
    "from druglab.featurize import get_featurizer\n",
    "\n",
    "get_featurizer(\"morgan3-2048\").featurize(mol).shape"
   ]
  },
  {
   "cell_type": "code",
   "execution_count": 3,
   "id": "946bbaa2",
   "metadata": {},
   "outputs": [
    {
     "data": {
      "text/plain": [
       "(1, 3072)"
      ]
     },
     "execution_count": 3,
     "metadata": {},
     "output_type": "execute_result"
    }
   ],
   "source": [
    "from druglab.featurize import CompositeFeaturizer\n",
    "\n",
    "CompositeFeaturizer([\n",
    "    get_featurizer(\"morgan3-2048\"),\n",
    "    get_featurizer(\"morgan2-1024\")\n",
    "]).featurize(mol).shape"
   ]
  },
  {
   "cell_type": "code",
   "execution_count": 5,
   "id": "79ea7c49",
   "metadata": {},
   "outputs": [
    {
     "data": {
      "text/plain": [
       "['0:morgan3_0',\n",
       " '0:morgan3_1',\n",
       " '0:morgan3_2',\n",
       " '0:morgan3_3',\n",
       " '0:morgan3_4',\n",
       " '0:morgan3_5',\n",
       " '0:morgan3_6',\n",
       " '0:morgan3_7',\n",
       " '0:morgan3_8',\n",
       " '0:morgan3_9']"
      ]
     },
     "execution_count": 5,
     "metadata": {},
     "output_type": "execute_result"
    }
   ],
   "source": [
    "get_featurizer([\"morgan3-1024\", \"morgan2-2048\"]).fnames[:10]"
   ]
  }
 ],
 "metadata": {
  "kernelspec": {
   "display_name": "druglab",
   "language": "python",
   "name": "python3"
  },
  "language_info": {
   "codemirror_mode": {
    "name": "ipython",
    "version": 3
   },
   "file_extension": ".py",
   "mimetype": "text/x-python",
   "name": "python",
   "nbconvert_exporter": "python",
   "pygments_lexer": "ipython3",
   "version": "3.12.9"
  }
 },
 "nbformat": 4,
 "nbformat_minor": 5
}
